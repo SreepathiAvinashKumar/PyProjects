{
 "cells": [
  {
   "cell_type": "code",
   "execution_count": 17,
   "metadata": {},
   "outputs": [
    {
     "data": {
      "text/plain": [
       "array([[20,  1],\n",
       "       [23,  1],\n",
       "       [25,  1],\n",
       "       [26,  1],\n",
       "       [29,  1],\n",
       "       [30,  1],\n",
       "       [31,  1],\n",
       "       [33,  1],\n",
       "       [37,  1],\n",
       "       [20,  0],\n",
       "       [21,  0],\n",
       "       [25,  0],\n",
       "       [26,  0],\n",
       "       [27,  0],\n",
       "       [30,  0],\n",
       "       [31,  0],\n",
       "       [34,  0],\n",
       "       [35,  0]], dtype=int64)"
      ]
     },
     "execution_count": 17,
     "metadata": {},
     "output_type": "execute_result"
    }
   ],
   "source": [
    "import pandas as pd \n",
    "from sklearn.tree import DecisionTreeClassifier\n",
    "from sklearn.model_selection import train_test_split\n",
    "from sklearn.metrics import accuracy_score\n",
    "\n",
    "music_data = pd.read_csv('music.csv')\n",
    "# music_data.describe()\n",
    "# music_data.shape\n",
    "# music_data.values\n",
    "X = music_data.drop(columns=['genre'])  # taking only the inputs \n",
    "y = music_data['genre']  # taking the only the output that we have to predict\n",
    "X_train, X_test ,y_train, y_test = train_test_split(X,y, test_size=0.2)  # testing the given input data as X and output data as y and train and test them of based on 0.2(20%) of given data and give the x,y train and test outputs\n",
    "\n",
    "model = DecisionTreeClassifier()   # this is descion tree algorithim\n",
    "model.fit(X_train,y_train)  # giving the data of Input as X and Output as Y\n",
    "predictions = model.predict(X_test)  # to predict the data of given Input Array \n",
    "\n",
    "score = accuracy_score(y_test,predictions)  # checking the accuaracy of the predicted value "
   ]
  },
  {
   "cell_type": "code",
   "execution_count": 45,
   "metadata": {},
   "outputs": [],
   "source": [
    "import pandas as pd \n",
    "from sklearn.tree import DecisionTreeClassifier\n",
    "import joblib\n",
    "from sklearn import tree\n",
    "\n",
    "\n",
    "# music_data = pd.read_csv('music.csv')\n",
    "X = music_data.drop(columns=['genre'])  # taking only the inputs \n",
    "y = music_data['genre']  # taking the only the output that we have to predict\n",
    "\n",
    "\n",
    "model = DecisionTreeClassifier() \n",
    "model.fit(X,y) \n",
    "# joblib.dump(model,'music-recommended.joblib')  # this makes not make to train model every time # storing the trained model in the binary format using dump function in music-recommended.joblib file that we can use them any time we want use the training the system\n",
    "# model = joblib.load('music-recommended.joblib')  # this can be used to  load the created trained model as binary into program that we can use it in current case\n",
    "# predictions = model.predict([[21,1]])  \n",
    "# predictions\n",
    "\n",
    "tree.export_graphviz(model, out_file='music-recommended.dot',feature_names=['age','gender'],class_names=y.unique(),label='all',rounded=True,filled=True)\n"
   ]
  }
 ],
 "metadata": {
  "kernelspec": {
   "display_name": "Python 3.10.4 64-bit",
   "language": "python",
   "name": "python3"
  },
  "language_info": {
   "codemirror_mode": {
    "name": "ipython",
    "version": 3
   },
   "file_extension": ".py",
   "mimetype": "text/x-python",
   "name": "python",
   "nbconvert_exporter": "python",
   "pygments_lexer": "ipython3",
   "version": "3.10.4"
  },
  "orig_nbformat": 4,
  "vscode": {
   "interpreter": {
    "hash": "987fc3940b7e0bab1dd67750f0f8f3864bbdfcf958f512432bf842e284ff32c3"
   }
  }
 },
 "nbformat": 4,
 "nbformat_minor": 2
}
